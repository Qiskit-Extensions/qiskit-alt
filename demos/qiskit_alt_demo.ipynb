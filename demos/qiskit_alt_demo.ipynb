{
 "cells": [
  {
   "cell_type": "markdown",
   "id": "3e23cbd3",
   "metadata": {},
   "source": [
    "# qiskit_alt\n",
    "\n",
    "This python package provides a thin wrapper around some features of Qiskit that have been (re-)implemented in Julia and provides a Python interface. The input and output of the Python interface are the same as the input and output to Python qiskit. At present, we have prepared two high level demonstrations\n",
    "\n",
    "* Performing the Jordan-Wigner transform from a Fermionic operator to a Pauli operator.\n",
    "\n",
    "* Computing the Fermionic operator from integrals computed by `pyscf`.\n",
    "\n",
    "In both cases, we will see that the `qiskit_alt` implementation is much more performant.\n",
    "\n",
    "We have also prepared some lower-level demonstrations of performance gains\n",
    "\n",
    "* Converting an operator from the computational basis to the Pauli basis.\n",
    "\n",
    "* Creating a `SparsePauliOp` from a list of strings"
   ]
  },
  {
   "cell_type": "markdown",
   "id": "86f7fd8f",
   "metadata": {},
   "source": [
    "The Python package has been installed in a virtual environment created with `python -m venv ./env`. The Julia packages have been installed in a local environment in the standard way, via a spec in `Project.toml` file.\n",
    "\n",
    "When we import the package `qiskit_alt`, the Julia environment is also activated."
   ]
  },
  {
   "cell_type": "code",
   "execution_count": 1,
   "id": "29b7099b",
   "metadata": {
    "scrolled": true
   },
   "outputs": [
    {
     "name": "stderr",
     "output_type": "stream",
     "text": [
      "  Activating project at `~/myrepos/quantum_repos/qiskit_alt/qiskit_alt`\n"
     ]
    },
    {
     "name": "stdout",
     "output_type": "stream",
     "text": [
      "CPU times: user 1.72 s, sys: 1.58 s, total: 3.3 s\n",
      "Wall time: 1.89 s\n"
     ]
    }
   ],
   "source": [
    "%time import qiskit_alt  # The message below is from Julia"
   ]
  },
  {
   "cell_type": "markdown",
   "id": "cb29172e",
   "metadata": {},
   "source": [
    "We assume that no one is familiar with Julia, much less with `pyjulia`, the package we use to call Julia from Python. So, we inject a bit of tutorial.\n",
    "\n",
    "The default `Module` in Julia `Main` is available. You can think of it as a namespace. And, as always, objects from the `Module` `Base` have been imported into `Main`.\n",
    "\n",
    "As an example of how `pyjulia` works, we create an `Array` of `Float64` zeros on the Julia side, and they are automatically copied to a numpy array when returned to Python."
   ]
  },
  {
   "cell_type": "code",
   "execution_count": 2,
   "id": "0f936bc8",
   "metadata": {},
   "outputs": [
    {
     "name": "stderr",
     "output_type": "stream",
     "text": [
      "┌ Warning: `vendor()` is deprecated, use `BLAS.get_config()` and inspect the output instead\n",
      "│   caller = npyinitialize() at numpy.jl:67\n",
      "└ @ PyCall ~/.julia/packages/PyCall/3fwVL/src/numpy.jl:67\n"
     ]
    },
    {
     "data": {
      "text/plain": [
       "array([0., 0., 0., 0., 0., 0., 0., 0., 0., 0.])"
      ]
     },
     "execution_count": 2,
     "metadata": {},
     "output_type": "execute_result"
    }
   ],
   "source": [
    "qiskit_alt.Main.zeros(10)"
   ]
  },
  {
   "cell_type": "markdown",
   "id": "b733f29d",
   "metadata": {},
   "source": [
    "There are several ways to call Julia from Python and vice versa, and to specifiy features such as the copying vs. sharing semantics. We won't go into any of this in this demo."
   ]
  },
  {
   "cell_type": "markdown",
   "id": "dea87cf9",
   "metadata": {},
   "source": [
    "## Electronic structure\n",
    "\n",
    "Part of a workflow for, say, VQE involves using qiskit-nature to do the following:\n",
    "* Get a description of a model Hamiltonian from the package `pyscf` by passing it a description of the geometry of a molecule.\n",
    "* Convert that description of a Hamiltonian to a qiskit-native Fermionic operator.\n",
    "* Convert the Fermionic operator to a qubit operator expressed in the Pauli basis.\n",
    "\n",
    "The last step above may be done in several ways, one of which is known as the Jordan-Wigner transform. It is this step that we will benchmark here."
   ]
  },
  {
   "cell_type": "markdown",
   "id": "c4ca7000",
   "metadata": {},
   "source": [
    "### qiskit-nature\n",
    "\n",
    "First, we see how this is done in qiskit-nature. We need to specify the geometry of the molecule and the\n",
    "[basis set](https://en.wikipedia.org/wiki/Basis_set_(chemistry)). We choose `sto3g`, one of the smallest, simplest, basis sets."
   ]
  },
  {
   "cell_type": "code",
   "execution_count": 3,
   "id": "ca1047f9",
   "metadata": {},
   "outputs": [],
   "source": [
    "from qiskit_nature.drivers import UnitsType, Molecule\n",
    "from qiskit_nature.drivers.second_quantization import ElectronicStructureDriverType, ElectronicStructureMoleculeDriver\n",
    "\n",
    "# Specify the geometry of the H_2 molecule\n",
    "geometry = [['H', [0., 0., 0.]],\n",
    "            ['H', [0., 0., 0.735]]]\n",
    "\n",
    "basis = 'sto3g'"
   ]
  },
  {
   "cell_type": "markdown",
   "id": "c6726e7d",
   "metadata": {},
   "source": [
    "Then, we compute the fermionic Hamiltonian like this."
   ]
  },
  {
   "cell_type": "code",
   "execution_count": 4,
   "id": "fc1697b6",
   "metadata": {},
   "outputs": [],
   "source": [
    "molecule = Molecule(geometry=geometry,\n",
    "                     charge=0, multiplicity=1)\n",
    "driver = ElectronicStructureMoleculeDriver(molecule, basis=basis, driver_type=ElectronicStructureDriverType.PYSCF)\n",
    "\n",
    "from qiskit_nature.problems.second_quantization import ElectronicStructureProblem\n",
    "from qiskit_nature.converters.second_quantization import QubitConverter\n",
    "from qiskit_nature.mappers.second_quantization import JordanWignerMapper\n",
    "\n",
    "es_problem = ElectronicStructureProblem(driver)\n",
    "second_q_op = es_problem.second_q_ops()\n",
    "\n",
    "fermionic_hamiltonian = second_q_op[0]"
   ]
  },
  {
   "cell_type": "markdown",
   "id": "f6000f0a",
   "metadata": {},
   "source": [
    "The Jordan-Wigner transform is performed like this."
   ]
  },
  {
   "cell_type": "code",
   "execution_count": 5,
   "id": "1d41dd67",
   "metadata": {},
   "outputs": [
    {
     "data": {
      "text/plain": [
       "SparsePauliOp(['IIII', 'ZIII', 'IZII', 'ZZII', 'IIZI', 'ZIZI', 'IZZI', 'IIIZ', 'ZIIZ', 'IZIZ', 'IIZZ', 'XXXX', 'YYXX', 'XXYY', 'YYYY'],\n",
       "              coeffs=[-0.81054798+0.j, -0.22575349+0.j,  0.17218393+0.j,  0.12091263+0.j,\n",
       " -0.22575349+0.j,  0.17464343+0.j,  0.16614543+0.j,  0.17218393+0.j,\n",
       "  0.16614543+0.j,  0.16892754+0.j,  0.12091263+0.j,  0.0452328 +0.j,\n",
       "  0.0452328 +0.j,  0.0452328 +0.j,  0.0452328 +0.j])"
      ]
     },
     "execution_count": 5,
     "metadata": {},
     "output_type": "execute_result"
    }
   ],
   "source": [
    "qubit_converter = QubitConverter(mapper=JordanWignerMapper())\n",
    "nature_qubit_op = qubit_converter.convert(fermionic_hamiltonian)\n",
    "nature_qubit_op.primitive"
   ]
  },
  {
   "cell_type": "markdown",
   "id": "f00c5538",
   "metadata": {},
   "source": [
    "### qiskit_alt\n",
    "\n",
    "The only high-level code in `qiskit_alt` was written to support this demo. So doing the JW-transform is less verbose."
   ]
  },
  {
   "cell_type": "code",
   "execution_count": 6,
   "id": "7ecebbe7",
   "metadata": {},
   "outputs": [
    {
     "data": {
      "text/plain": [
       "SparsePauliOp(['IIII', 'ZIII', 'IZII', 'ZZII', 'IIZI', 'ZIZI', 'IZZI', 'IIIZ', 'ZIIZ', 'IZIZ', 'IIZZ', 'XXXX', 'YYXX', 'XXYY', 'YYYY'],\n",
       "              coeffs=[-0.09057899+0.j, -0.22575349+0.j,  0.17218393+0.j,  0.12091263+0.j,\n",
       " -0.22575349+0.j,  0.17464343+0.j,  0.16614543+0.j,  0.17218393+0.j,\n",
       "  0.16614543+0.j,  0.16892754+0.j,  0.12091263+0.j,  0.0452328 +0.j,\n",
       "  0.0452328 +0.j,  0.0452328 +0.j,  0.0452328 +0.j])"
      ]
     },
     "execution_count": 6,
     "metadata": {},
     "output_type": "execute_result"
    }
   ],
   "source": [
    "fermi_op = qiskit_alt.fermionic_hamiltonian(geometry, basis)\n",
    "pauli_op = qiskit_alt.jordan_wigner(fermi_op)\n",
    "pauli_op.simplify() # The Julia Pauli operators use a different sorting convention; we sort again for comparison. "
   ]
  },
  {
   "cell_type": "markdown",
   "id": "3d6b0ffa",
   "metadata": {},
   "source": [
    "Note that the constant term differs. The qiskit-nature version ignores the nuclear-repulsion term. I need to open an issue about whether and how to handle it."
   ]
  },
  {
   "cell_type": "markdown",
   "id": "f32494c5",
   "metadata": {},
   "source": [
    "### Benchmarking\n",
    "\n",
    "Computing the Hamiltonian for a larger molecule or a larger basis set takes more time and produces a Hamiltonian with more factors and terms. Here we compare the performance of `qiskit_alt` and `qiskit-nature` on combinations of $\\text{H}_2$ and $\\text{H}_2\\text{O}$ molecules for several basis sets."
   ]
  },
  {
   "cell_type": "markdown",
   "id": "9c118b30",
   "metadata": {},
   "source": [
    "First we benchmark qiskit-nature, and record the times in `nature_times`."
   ]
  },
  {
   "cell_type": "code",
   "execution_count": 7,
   "id": "83562a9c",
   "metadata": {},
   "outputs": [
    {
     "name": "stdout",
     "output_type": "stream",
     "text": [
      "geometry=h2_geometry, basis='sto3g' 7.80 ms\n",
      "geometry=h2_geometry, basis='631g' 109.53 ms\n",
      "geometry=h2_geometry, basis='631++g' 565.23 ms\n",
      "geometry=h2o_geometry, basis='sto3g' 665.33 ms\n",
      "geometry=h2o_geometry, basis='631g' 18883.00 ms\n"
     ]
    },
    {
     "data": {
      "text/plain": [
       "[7.797991298139095,\n",
       " 109.53158047050238,\n",
       " 565.2254872024059,\n",
       " 665.3276139870286,\n",
       " 18882.997754961252]"
      ]
     },
     "execution_count": 7,
     "metadata": {},
     "output_type": "execute_result"
    }
   ],
   "source": [
    "%run ../bench/jordan_wigner_nature_time.py\n",
    "nature_times"
   ]
  },
  {
   "cell_type": "markdown",
   "id": "c6f6e210",
   "metadata": {},
   "source": [
    "Next we benchmark qiskit_alt, and record the times in `alt_times`."
   ]
  },
  {
   "cell_type": "code",
   "execution_count": 8,
   "id": "56f3abc4",
   "metadata": {
    "scrolled": true
   },
   "outputs": [
    {
     "name": "stdout",
     "output_type": "stream",
     "text": [
      "geometry=h2_geometry, basis='sto3g' 0.78 ms\n",
      "geometry=h2_geometry, basis='631g' 4.04 ms\n",
      "geometry=h2_geometry, basis='631++g' 21.87 ms\n",
      "geometry=h2o_geometry, basis='sto3g' 15.64 ms\n",
      "geometry=h2o_geometry, basis='631g' 539.83 ms\n"
     ]
    },
    {
     "data": {
      "text/plain": [
       "[0.7768628187477589,\n",
       " 4.036433342844248,\n",
       " 21.868112683296204,\n",
       " 15.64132273197174,\n",
       " 539.8289063945413]"
      ]
     },
     "execution_count": 8,
     "metadata": {},
     "output_type": "execute_result"
    }
   ],
   "source": [
    "%run ../bench/jordan_wigner_alt_time.py\n",
    "alt_times"
   ]
  },
  {
   "cell_type": "markdown",
   "id": "74a38fe5",
   "metadata": {},
   "source": [
    "We compare the relative performance."
   ]
  },
  {
   "cell_type": "code",
   "execution_count": 9,
   "id": "8269b475",
   "metadata": {
    "scrolled": false
   },
   "outputs": [
    {
     "data": {
      "text/plain": [
       "[10.037797034370673,\n",
       " 27.135733744910954,\n",
       " 25.847017316412003,\n",
       " 42.536531301605436,\n",
       " 34.97959729700054]"
      ]
     },
     "execution_count": 9,
     "metadata": {},
     "output_type": "execute_result"
    }
   ],
   "source": [
    "[t_nature / t_qk_alt for t_nature, t_qk_alt in zip(nature_times, alt_times)]"
   ]
  },
  {
   "cell_type": "markdown",
   "id": "e7e0524b",
   "metadata": {},
   "source": [
    "We see that\n",
    "* qiskit_alt is at least ten times faster\n",
    "* The relative performance increases as the problem in some sense gets larger.\n",
    "\n",
    "In fact, another problem, not shown here, finishes in 18s with qiskit_alt and in 5730s in qiskit-nature.\n",
    "In this case, `qiskit_alt` is 320 times faster than `qiskit-nature`. I don't have an idea about the origin of this scaling."
   ]
  },
  {
   "cell_type": "markdown",
   "id": "f6ca3e40",
   "metadata": {},
   "source": [
    "### Computing the Fermonic operator\n",
    "\n",
    "Computing the Fermionic operator from the output of `pyscf` is also much more efficient in `qiskit_alt`."
   ]
  },
  {
   "cell_type": "markdown",
   "id": "f2dd8cfa",
   "metadata": {},
   "source": [
    "We benchmark qiskit-nature computing the fermionic Hamiltonian"
   ]
  },
  {
   "cell_type": "code",
   "execution_count": 10,
   "id": "1eb2798b",
   "metadata": {},
   "outputs": [
    {
     "name": "stdout",
     "output_type": "stream",
     "text": [
      "geometry=h2_geometry, basis='sto3g' 62.70 ms\n",
      "geometry=h2_geometry, basis='631g' 103.45 ms\n",
      "geometry=h2_geometry, basis='631++g' 298.61 ms\n",
      "geometry=h2o_geometry, basis='sto3g' 462.42 ms\n",
      "geometry=h2o_geometry, basis='631g' 26795.75 ms\n"
     ]
    },
    {
     "data": {
      "text/plain": [
       "[62.697916477918625,\n",
       " 103.44601748511195,\n",
       " 298.6106913536787,\n",
       " 462.42241356521845,\n",
       " 26795.74941750616]"
      ]
     },
     "execution_count": 10,
     "metadata": {},
     "output_type": "execute_result"
    }
   ],
   "source": [
    "%run ../bench/fermionic_nature_time.py\n",
    "nature_times"
   ]
  },
  {
   "cell_type": "markdown",
   "id": "a56c2fd1",
   "metadata": {},
   "source": [
    "We benchmark qiskit_alt computing the fermionic Hamiltonian."
   ]
  },
  {
   "cell_type": "code",
   "execution_count": 11,
   "id": "b6650d69",
   "metadata": {},
   "outputs": [
    {
     "name": "stdout",
     "output_type": "stream",
     "text": [
      "geometry=h2_geometry, basis='sto3g' 62.79 ms\n",
      "geometry=h2_geometry, basis='631g' 66.02 ms\n",
      "geometry=h2_geometry, basis='631++g' 69.90 ms\n",
      "geometry=h2o_geometry, basis='sto3g' 86.15 ms\n",
      "geometry=h2o_geometry, basis='631g' 185.37 ms\n"
     ]
    },
    {
     "data": {
      "text/plain": [
       "[62.7941207960248,\n",
       " 66.01500445976853,\n",
       " 69.8961541056633,\n",
       " 86.14857820793986,\n",
       " 185.3723557665944]"
      ]
     },
     "execution_count": 11,
     "metadata": {},
     "output_type": "execute_result"
    }
   ],
   "source": [
    "%run ../bench/fermionic_alt_time.py\n",
    "alt_times"
   ]
  },
  {
   "cell_type": "markdown",
   "id": "0c8e4ac9",
   "metadata": {},
   "source": [
    "We compare the relative performance."
   ]
  },
  {
   "cell_type": "code",
   "execution_count": 12,
   "id": "e197f5fb",
   "metadata": {},
   "outputs": [
    {
     "data": {
      "text/plain": [
       "[0.9984679406784167,\n",
       " 1.5670076572994094,\n",
       " 4.2722048898751055,\n",
       " 5.367731228820204,\n",
       " 144.55094615750127]"
      ]
     },
     "execution_count": 12,
     "metadata": {},
     "output_type": "execute_result"
    }
   ],
   "source": [
    "[t_nature / t_qk_alt for t_nature, t_qk_alt in zip(nature_times, alt_times)]"
   ]
  },
  {
   "cell_type": "markdown",
   "id": "ef5d18bf",
   "metadata": {},
   "source": [
    "We see again that, as the problem size increases, `qiskit_alt` is increasingly more performant."
   ]
  },
  {
   "cell_type": "markdown",
   "id": "bdfd094a",
   "metadata": {},
   "source": [
    "## Discussion\n",
    "\n",
    "The Julia implemenation consists of these packages\n",
    "\n",
    "* [`QuantumOps.jl`](https://github.com/Qiskit-Extensions/QuantumOps.jl) implementing Fermionic and Pauli operators and calculations using them.\n",
    "\n",
    "* [`ElectronicStructure.jl`](https://github.com/Qiskit-Extensions/ElectronicStructure.jl) provides an interface to electronic structure packages.\n",
    "\n",
    "* [`ElectronicStructurePySCF.jl`](https://github.com/Qiskit-Extensions/ElectronicStructurePySCF.jl) provides an interface to `pyscf`\n",
    "\n",
    "* [`QiskitQuantumInfo.jl`](https://github.com/Qiskit-Extensions/QiskitQuantumInfo.jl) provides data structures that mirror Python Qiskit data structures. These are used as intermedidate structures for converting from `QuantumOps` and `ElectronicStructure` to Python Qiskit. In the future these might be used directly for calculations.\n",
    "\n",
    "\n",
    "The Python interface is a Python package `qiskit_alt`. This could contain a mixture of Julia and Python code. Or all the Julia code might be moved to the Julia packages.\n",
    "\n",
    "### Implementation\n",
    "\n",
    "In the examples above, the following happens.\n",
    "\n",
    "* Julia code calls `pyscf` and stores the results in Julia data structures.\n",
    "\n",
    "* These data are used to construct a Fermionic operator as a data structure defined in `QuantumOps`.\n",
    "\n",
    "* The Jordan-Wigner transform, implemented in `QuantumOps` is used to compute a Pauli operator.\n",
    "\n",
    "* The Pauli operator (as a structure in `QuantumOps`) is converted to a Qiskit-like operator defined in `QiskitQuantumInfo.jl`.\n",
    "\n",
    "* The operator defined in `QiskitQuantumInfo.jl` is sent to Python and converted to numpy arrays, which are then used to construct native Qiskit types. The conversion to numpy arrays is provided by `pyjulia`.\n",
    "\n",
    "### Complexity, dynamism\n",
    "\n",
    "* It is worth noting that operators in `QuantumOps` are *not* highly optimized implementations. In fact, much of the code for the two types of operators is shared, they inherit from a parent class. There are other implementations of Pauli operators in Julia that are much more efficient for instance in [`QuantumClifford.jl`](https://github.com/Krastanov/QuantumClifford.jl).\n",
    "\n",
    "* [Issue](https://github.com/Qiskit-Extensions/QuantumOps.jl/issues/17) for improving performance of Jordan-Wigner in `QuantumOps`.\n",
    "    * Precompute one and two-body terms\n",
    "    * Use @threads\n"
   ]
  },
  {
   "cell_type": "markdown",
   "id": "af37da81",
   "metadata": {},
   "source": [
    "# More demos\n",
    "\n",
    "Here are some smaller scale demonstrations.\n",
    "\n",
    "## Converting a matrix to the Pauli basis\n",
    "\n",
    "Here we convert a matrix representing an operator in the computational basis to the Pauli basis.\n",
    "In this case, `qiskit_alt` is much more performant than `qiskit.quantum_info`.\n",
    "This is how it is done in `QuantumOps`."
   ]
  },
  {
   "cell_type": "code",
   "execution_count": 13,
   "id": "9bda9915",
   "metadata": {},
   "outputs": [
    {
     "data": {
      "text/plain": [
       "SparsePauliOp(['III', 'XII', 'YII', 'ZII', 'IXI', 'XXI', 'YXI', 'ZXI', 'IYI', 'XYI', 'YYI', 'ZYI', 'IZI', 'XZI', 'YZI', 'ZZI', 'IIX', 'XIX', 'YIX', 'ZIX', 'IXX', 'XXX', 'YXX', 'ZXX', 'IYX', 'XYX', 'YYX', 'ZYX', 'IZX', 'XZX', 'YZX', 'ZZX', 'IIY', 'XIY', 'YIY', 'ZIY', 'IXY', 'XXY', 'YXY', 'ZXY', 'IYY', 'XYY', 'YYY', 'ZYY', 'IZY', 'XZY', 'YZY', 'ZZY', 'IIZ', 'XIZ', 'YIZ', 'ZIZ', 'IXZ', 'XXZ', 'YXZ', 'ZXZ', 'IYZ', 'XYZ', 'YYZ', 'ZYZ', 'IZZ', 'XZZ', 'YZZ', 'ZZZ'],\n",
       "              coeffs=[ 0.39052012+0.j        ,  0.55241263+0.j        ,  0.        -0.02845823j,\n",
       " -0.13366768+0.j        ,  0.4786612 +0.j        ,  0.5543316 +0.j        ,\n",
       "  0.        -0.00608297j,  0.1047429 +0.j        ,  0.        +0.1583541j ,\n",
       "  0.        -0.2395687j , -0.06712764-0.j        ,  0.        -0.14754098j,\n",
       "  0.04848159+0.j        , -0.0046047 +0.j        ,  0.        -0.0150749j ,\n",
       " -0.16189207+0.j        ,  0.27892691+0.j        ,  0.45365763+0.j        ,\n",
       "  0.        +0.01451685j,  0.0716953 +0.j        ,  0.4666715 +0.j        ,\n",
       "  0.33000218+0.j        ,  0.        -0.02449481j, -0.02493669+0.j        ,\n",
       "  0.        +0.10037217j,  0.        +0.12613304j, -0.07038545-0.j        ,\n",
       "  0.        +0.0870998j , -0.09527779+0.j        , -0.02592435+0.j        ,\n",
       "  0.        +0.08841632j,  0.06437987+0.j        ,  0.        -0.05640358j,\n",
       "  0.        +0.0302508j , -0.11796079-0.j        ,  0.        +0.0692027j ,\n",
       "  0.        -0.18578802j,  0.        -0.1890868j , -0.01040762-0.j        ,\n",
       "  0.        +0.12390694j,  0.06468914+0.j        ,  0.12244753+0.j        ,\n",
       "  0.        +0.09100954j,  0.07648312+0.j        ,  0.        -0.03854437j,\n",
       "  0.        +0.04048031j,  0.06824669+0.j        ,  0.        -0.1222113j ,\n",
       " -0.0701829 +0.j        , -0.14287754+0.j        ,  0.        +0.06090795j,\n",
       " -0.01674972+0.j        , -0.14575133+0.j        ,  0.01526675+0.j        ,\n",
       "  0.        -0.12363121j, -0.15289637+0.j        ,  0.        -0.02543241j,\n",
       "  0.        -0.0038884j ,  0.070988  +0.j        ,  0.        +0.0020155j ,\n",
       " -0.02343683+0.j        , -0.0579626 +0.j        ,  0.        -0.11735074j,\n",
       "  0.16434345+0.j        ])"
      ]
     },
     "execution_count": 13,
     "metadata": {},
     "output_type": "execute_result"
    }
   ],
   "source": [
    "from qiskit_alt import QuantumOps, PauliSum_to_SparsePauliOp\n",
    "import numpy as np\n",
    "m = np.random.rand(2**3, 2**3) # 3-qubit operator\n",
    "pauli_sum = QuantumOps.PauliSum(m) # This is a wrapped Julia object\n",
    "PauliSum_to_SparsePauliOp(pauli_sum) # Convert to qiskit.quantum_info.SparsePauliOp"
   ]
  },
  {
   "cell_type": "markdown",
   "id": "0bfdfacb",
   "metadata": {},
   "source": [
    "Note that the `numpy` matrix was automatically converted to a Julia `Matrix`."
   ]
  },
  {
   "cell_type": "markdown",
   "id": "9268c181",
   "metadata": {},
   "source": [
    "We run benchmarks of conversion of matrices to the Pauli basis."
   ]
  },
  {
   "cell_type": "code",
   "execution_count": 14,
   "id": "a6945b8f",
   "metadata": {},
   "outputs": [
    {
     "name": "stdout",
     "output_type": "stream",
     "text": [
      "nqubits=2, 1.17 ms\n",
      "nqubits=3, 4.78 ms\n",
      "nqubits=4, 23.58 ms\n",
      "nqubits=5, 136.08 ms\n",
      "nqubits=6, 1028.70 ms\n",
      "nqubits=7, 8814.51 ms\n",
      "nqubits=8, 111779.97 ms\n"
     ]
    }
   ],
   "source": [
    "%run ../bench/from_matrix_quantum_info.py"
   ]
  },
  {
   "cell_type": "code",
   "execution_count": 15,
   "id": "465a7bf5",
   "metadata": {},
   "outputs": [
    {
     "name": "stdout",
     "output_type": "stream",
     "text": [
      "nqubits=2, 0.75 ms\n",
      "nqubits=3, 1.04 ms\n",
      "nqubits=4, 2.51 ms\n",
      "nqubits=5, 5.47 ms\n",
      "nqubits=6, 29.12 ms\n",
      "nqubits=7, 112.66 ms\n",
      "nqubits=8, 679.19 ms\n"
     ]
    }
   ],
   "source": [
    "%run ../bench/from_matrix_alt.py"
   ]
  },
  {
   "cell_type": "markdown",
   "id": "94fd017c",
   "metadata": {},
   "source": [
    "Here are the ratios of the times for `qiskit.quantum_info` to those for `qiskit_alt`."
   ]
  },
  {
   "cell_type": "code",
   "execution_count": 16,
   "id": "217f2f7a",
   "metadata": {},
   "outputs": [
    {
     "data": {
      "text/plain": [
       "[1.5700753819255067,\n",
       " 4.59815552520903,\n",
       " 9.389570201257504,\n",
       " 24.86681752958876,\n",
       " 35.328747352410964,\n",
       " 78.24328759156235,\n",
       " 164.57786763581922]"
      ]
     },
     "execution_count": 16,
     "metadata": {},
     "output_type": "execute_result"
    }
   ],
   "source": [
    "[t_pyqk / t_qk_alt for t_pyqk, t_qk_alt in zip(pyqk_times, qk_alt_times)]"
   ]
  },
  {
   "cell_type": "markdown",
   "id": "40fb432c",
   "metadata": {},
   "source": [
    "Again, the performance gain increases with the problem size."
   ]
  },
  {
   "cell_type": "markdown",
   "id": "0cd10e98",
   "metadata": {},
   "source": [
    "## Creating a `SparsePauliOp` from a list of strings\n",
    "\n",
    "\n",
    "Here, we create a `SparsePauliOp` from a list of `n` strings, each with `k` single-Pauli factors, and simplify the result."
   ]
  },
  {
   "cell_type": "markdown",
   "id": "fbfeab47",
   "metadata": {},
   "source": [
    "First, using `qiskit.quantum_info`"
   ]
  },
  {
   "cell_type": "code",
   "execution_count": 17,
   "id": "39ad43f3",
   "metadata": {},
   "outputs": [
    {
     "name": "stdout",
     "output_type": "stream",
     "text": [
      "k=10, n=10, 0.5016755312681198 ms\n",
      "k=10, n=100, 1.6245672944933176 ms\n",
      "k=10, n=1000, 14.161849254742265 ms\n",
      "k=10, n=5000, 69.29868087172508 ms\n",
      "k=10, n=10000, 139.92150407284498 ms\n",
      "k=10, n=100000, 1426.3707557693124 ms\n",
      "k=100, n=10, 0.36880169063806534 ms\n",
      "k=100, n=100, 1.7130729276686907 ms\n",
      "k=100, n=1000, 15.56673408485949 ms\n",
      "k=100, n=5000, 76.61173697561026 ms\n",
      "k=100, n=10000, 154.58954963833094 ms\n",
      "k=100, n=100000, 1572.8770233690739 ms\n"
     ]
    }
   ],
   "source": [
    "%run ../bench/pauli_from_list_qinfo.py"
   ]
  },
  {
   "cell_type": "markdown",
   "id": "bc7f9d07",
   "metadata": {},
   "source": [
    "Now, using `qiskit_alt`"
   ]
  },
  {
   "cell_type": "code",
   "execution_count": 18,
   "id": "a4b9eeda",
   "metadata": {},
   "outputs": [
    {
     "name": "stdout",
     "output_type": "stream",
     "text": [
      "k=10, n=10, 0.697034876793623 ms\n",
      "k=10, n=100, 0.8141309954226017 ms\n",
      "k=10, n=1000, 1.843177480623126 ms\n",
      "k=10, n=5000, 8.043060917407274 ms\n",
      "k=10, n=10000, 18.009070958942175 ms\n",
      "k=10, n=100000, 201.9890126772225 ms\n",
      "k=100, n=10, 0.6992104463279247 ms\n",
      "k=100, n=100, 0.8975590579211712 ms\n",
      "k=100, n=1000, 2.8165516909211874 ms\n",
      "k=100, n=5000, 16.188665898516774 ms\n",
      "k=100, n=10000, 28.525954112410545 ms\n",
      "k=100, n=100000, 319.8997893836349 ms\n"
     ]
    }
   ],
   "source": [
    "%run ../bench/pauli_from_list_alt.py"
   ]
  },
  {
   "cell_type": "markdown",
   "id": "a1372173",
   "metadata": {},
   "source": [
    "The results were written to lists `quantum_info_times` and `qkalt_times`. We compare the performance:"
   ]
  },
  {
   "cell_type": "code",
   "execution_count": 19,
   "id": "e7bfa245",
   "metadata": {},
   "outputs": [
    {
     "data": {
      "text/plain": [
       "[0.7197280193149577,\n",
       " 1.9954617913177868,\n",
       " 7.683388823714656,\n",
       " 8.615958723095671,\n",
       " 7.769501513534141,\n",
       " 7.061625465978421,\n",
       " 0.5274544918127553,\n",
       " 1.9085907635273873,\n",
       " 5.526876760343852,\n",
       " 4.732430544670732,\n",
       " 5.4192595637344505,\n",
       " 4.916780428019679]"
      ]
     },
     "execution_count": 19,
     "metadata": {},
     "output_type": "execute_result"
    }
   ],
   "source": [
    "[x / y for x,y in zip(quantum_info_times, qkalt_times)]"
   ]
  },
  {
   "cell_type": "markdown",
   "id": "7c28aadc",
   "metadata": {},
   "source": [
    "We see that the performance improvement in `qiskit_alt` is significant, but does not increase with the number of terms `n`. Further benchmarks show that the time required to convert the strings from Python to Julia takes all the time.\n",
    "\n",
    "We see this in the following."
   ]
  },
  {
   "cell_type": "code",
   "execution_count": 20,
   "id": "43d88903",
   "metadata": {
    "scrolled": true
   },
   "outputs": [
    {
     "name": "stdout",
     "output_type": "stream",
     "text": [
      "Initializing Julia interpreter. This may take some time...\n"
     ]
    }
   ],
   "source": [
    "%load_ext julia.magic"
   ]
  },
  {
   "cell_type": "markdown",
   "id": "0b82727a",
   "metadata": {},
   "source": [
    "Generate `1000` ten-qubit Pauli strings."
   ]
  },
  {
   "cell_type": "code",
   "execution_count": 21,
   "id": "22ac98aa",
   "metadata": {},
   "outputs": [],
   "source": [
    "%julia using Random: randstring\n",
    "%julia pauli_strings = [randstring(\"IXYZ\", 10) for _ in 1:1000]\n",
    "None;"
   ]
  },
  {
   "cell_type": "markdown",
   "id": "77f21d2d",
   "metadata": {},
   "source": [
    "Benchmark converting these to a `QuantumOps.PauliSum`. Note that as the sums are always sorted."
   ]
  },
  {
   "cell_type": "code",
   "execution_count": 22,
   "id": "4c1dade6",
   "metadata": {},
   "outputs": [
    {
     "name": "stdout",
     "output_type": "stream",
     "text": [
      "  339.580 μs (1012 allocations: 134.17 KiB)\n"
     ]
    }
   ],
   "source": [
    "%julia using BenchmarkTools: @btime\n",
    "%julia @btime QuantumOps.PauliSum($pauli_strings)\n",
    "None;"
   ]
  },
  {
   "cell_type": "markdown",
   "id": "5b1facf8",
   "metadata": {},
   "source": [
    "Check that we are actually getting the right result."
   ]
  },
  {
   "cell_type": "code",
   "execution_count": 23,
   "id": "ff503a66",
   "metadata": {},
   "outputs": [
    {
     "name": "stdout",
     "output_type": "stream",
     "text": [
      "1000\n",
      "10-factor QuantumOps.PauliTerm{Vector{QuantumOps.Paulis.Pauli}, Complex{Int64}}:\n",
      "IIIIIYZZIX * (1 + 0im)\n"
     ]
    }
   ],
   "source": [
    "%julia pauli_sum = QuantumOps.PauliSum(pauli_strings);\n",
    "%julia println(length(pauli_sum))\n",
    "%julia println(pauli_sum[1])"
   ]
  },
  {
   "cell_type": "code",
   "execution_count": 24,
   "id": "6255a2ef",
   "metadata": {},
   "outputs": [
    {
     "data": {
      "text/plain": [
       "46.06705539358601"
      ]
     },
     "execution_count": 24,
     "metadata": {},
     "output_type": "execute_result"
    }
   ],
   "source": [
    "6.9 * 2.29 / .343  # Ratio of time to construct PauliSum via qiskit_alt to time in pure Julia"
   ]
  },
  {
   "cell_type": "markdown",
   "id": "d2c36826",
   "metadata": {},
   "source": [
    "So the pure Julia code is `46` times faster than the qiskit.quantum_info.\n",
    "**But, the `qiskit.quantum_info` is also extracting a possible phase !**"
   ]
  }
 ],
 "metadata": {
  "kernelspec": {
   "display_name": "env",
   "language": "python",
   "name": "env"
  },
  "language_info": {
   "codemirror_mode": {
    "name": "ipython",
    "version": 3
   },
   "file_extension": ".py",
   "mimetype": "text/x-python",
   "name": "python",
   "nbconvert_exporter": "python",
   "pygments_lexer": "ipython3",
   "version": "3.9.7"
  }
 },
 "nbformat": 4,
 "nbformat_minor": 5
}
