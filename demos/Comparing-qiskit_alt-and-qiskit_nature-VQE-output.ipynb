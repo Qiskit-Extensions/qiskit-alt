{
 "cells": [
  {
   "cell_type": "markdown",
   "id": "1b3a4b04",
   "metadata": {},
   "source": [
    "### Load and initialize qiskit_alt "
   ]
  },
  {
   "cell_type": "code",
   "execution_count": 1,
   "id": "01082cac",
   "metadata": {},
   "outputs": [],
   "source": [
    "import qiskit_alt\n",
    "qiskit_alt.project.ensure_init()\n",
    "\n",
    "# The following line would also initialize qiskit_alt behind the scenes, but we have made it explicity above.\n",
    "# import qiskit_alt.electronic_structure"
   ]
  },
  {
   "cell_type": "code",
   "execution_count": 2,
   "id": "3c6ae0b1",
   "metadata": {},
   "outputs": [],
   "source": [
    "from qiskit.providers import aer  # make sure this is available"
   ]
  },
  {
   "cell_type": "code",
   "execution_count": 3,
   "id": "635e46c9",
   "metadata": {},
   "outputs": [],
   "source": [
    "from qiskit_nature.drivers import UnitsType, Molecule\n",
    "from qiskit_nature.drivers.second_quantization import (\n",
    "    ElectronicStructureDriverType,\n",
    "    ElectronicStructureMoleculeDriver,\n",
    ")\n",
    "from qiskit_nature.problems.second_quantization import ElectronicStructureProblem\n",
    "from qiskit_nature.converters.second_quantization import QubitConverter\n",
    "from qiskit_nature.mappers.second_quantization import JordanWignerMapper\n",
    "\n",
    "from qiskit.algorithms import VQE\n",
    "from qiskit.circuit.library import TwoLocal\n",
    "from qiskit.utils import QuantumInstance\n",
    "from qiskit import Aer\n",
    "from qiskit.algorithms.optimizers import COBYLA\n",
    "\n",
    "import qiskit_alt, qiskit_alt.electronic_structure  # already done above, but this does not hurt\n",
    "from qiskit_alt.pauli_operators import PauliSum_to_SparsePauliOp\n",
    "from qiskit.opflow import PauliSumOp"
   ]
  },
  {
   "cell_type": "markdown",
   "id": "a43d4152",
   "metadata": {},
   "source": [
    "<h1> Describing the $H_2$ molecule structure </h1>"
   ]
  },
  {
   "cell_type": "code",
   "execution_count": 4,
   "id": "4891a609",
   "metadata": {},
   "outputs": [],
   "source": [
    "geometry = [[\"H\", [0.0, 0.0, 0.0]], [\"H\", [0.0, 0.0, 0.735]]]\n",
    "basis=\"sto3g\"\n",
    "\n",
    "molecule = Molecule(\n",
    "    geometry=geometry, charge=0, multiplicity=1\n",
    ")\n",
    "driver = ElectronicStructureMoleculeDriver(\n",
    "    molecule, basis=basis, driver_type=ElectronicStructureDriverType.PYSCF\n",
    ")"
   ]
  },
  {
   "cell_type": "markdown",
   "id": "15dd86ae",
   "metadata": {},
   "source": [
    "<h1> Computing the fermionic operator </h1>"
   ]
  },
  {
   "cell_type": "markdown",
   "id": "49bc104c",
   "metadata": {},
   "source": [
    "<h3> Qiskit Nature </h3>"
   ]
  },
  {
   "cell_type": "code",
   "execution_count": 5,
   "id": "405a85be",
   "metadata": {
    "scrolled": false
   },
   "outputs": [
    {
     "data": {
      "text/plain": [
       "SparsePauliOp(['YYYY', 'XXYY', 'YYXX', 'XXXX', 'IIII', 'ZIII', 'IZII', 'ZZII', 'IIZI', 'ZIZI', 'IZZI', 'IIIZ', 'ZIIZ', 'IZIZ', 'IIZZ'],\n",
       "              coeffs=[ 0.0452328 +0.j,  0.0452328 +0.j,  0.0452328 +0.j,  0.0452328 +0.j,\n",
       " -0.81054798+0.j, -0.22575349+0.j,  0.17218393+0.j,  0.12091263+0.j,\n",
       " -0.22575349+0.j,  0.17464343+0.j,  0.16614543+0.j,  0.17218393+0.j,\n",
       "  0.16614543+0.j,  0.16892754+0.j,  0.12091263+0.j])"
      ]
     },
     "execution_count": 5,
     "metadata": {},
     "output_type": "execute_result"
    }
   ],
   "source": [
    "es_problem = ElectronicStructureProblem(driver)\n",
    "second_q_op= es_problem.second_q_ops()\n",
    "qubit_converter = QubitConverter(mapper=JordanWignerMapper())\n",
    "qubit_op = qubit_converter.convert(second_q_op[0])\n",
    "# Print the underlying data stored backing qubit_op\n",
    "qubit_op.primitive.simplify()"
   ]
  },
  {
   "cell_type": "markdown",
   "id": "01277c4a",
   "metadata": {},
   "source": [
    "<h3> Qiskit Alt </h3>"
   ]
  },
  {
   "cell_type": "code",
   "execution_count": 6,
   "id": "ed086717",
   "metadata": {},
   "outputs": [],
   "source": [
    "# Compute the Fermionic operator of the molecule \n",
    "fermi_op = qiskit_alt.electronic_structure.fermionic_hamiltonian(geometry, basis)\n",
    "\n",
    "# Convert the Fermionic operator to a Pauli operator using the Jordan-Wigner transform\n",
    "pauli_op = qiskit_alt.electronic_structure.jordan_wigner(fermi_op)"
   ]
  },
  {
   "cell_type": "markdown",
   "id": "b88169fe",
   "metadata": {},
   "source": [
    "`jordan_wigner` did the computation in Julia and converted the result to standard Python qiskit `SparsePauliOp` before returning:"
   ]
  },
  {
   "cell_type": "code",
   "execution_count": 7,
   "id": "c051483e",
   "metadata": {},
   "outputs": [
    {
     "data": {
      "text/plain": [
       "qiskit.quantum_info.operators.symplectic.sparse_pauli_op.SparsePauliOp"
      ]
     },
     "execution_count": 7,
     "metadata": {},
     "output_type": "execute_result"
    }
   ],
   "source": [
    "type(pauli_op)"
   ]
  },
  {
   "cell_type": "markdown",
   "id": "7beb6d8f",
   "metadata": {},
   "source": [
    "It displays like this."
   ]
  },
  {
   "cell_type": "code",
   "execution_count": 8,
   "id": "9b7328cf",
   "metadata": {
    "scrolled": true
   },
   "outputs": [
    {
     "data": {
      "text/plain": [
       "SparsePauliOp(['IIII', 'ZIII', 'IZII', 'ZZII', 'IIZI', 'ZIZI', 'IZZI', 'XXXX', 'YYXX', 'XXYY', 'YYYY', 'IIIZ', 'ZIIZ', 'IZIZ', 'IIZZ'],\n",
       "              coeffs=[-0.09057899+0.j, -0.22575349+0.j,  0.17218393+0.j,  0.12091263+0.j,\n",
       " -0.22575349+0.j,  0.17464343+0.j,  0.16614543+0.j,  0.0452328 +0.j,\n",
       "  0.0452328 +0.j,  0.0452328 +0.j,  0.0452328 +0.j,  0.17218393+0.j,\n",
       "  0.16614543+0.j,  0.16892754+0.j,  0.12091263+0.j])"
      ]
     },
     "execution_count": 8,
     "metadata": {},
     "output_type": "execute_result"
    }
   ],
   "source": [
    "pauli_op.simplify()"
   ]
  },
  {
   "cell_type": "markdown",
   "id": "318347f6",
   "metadata": {},
   "source": [
    "The two calculations of the Hamiltonian as a Pauli operator agree, up to the constant term."
   ]
  },
  {
   "cell_type": "code",
   "execution_count": 9,
   "id": "31c2519e",
   "metadata": {
    "scrolled": true
   },
   "outputs": [
    {
     "data": {
      "text/plain": [
       "SparsePauliOp(['IIII'],\n",
       "              coeffs=[0.71996899+0.j])"
      ]
     },
     "execution_count": 9,
     "metadata": {},
     "output_type": "execute_result"
    }
   ],
   "source": [
    "(pauli_op - qubit_op.primitive).simplify()"
   ]
  },
  {
   "cell_type": "markdown",
   "id": "da126f1d",
   "metadata": {},
   "source": [
    "This is just the nuclear-repulsion term, which is retained by qiskit_alt. Note the coefficient is the same as the line above."
   ]
  },
  {
   "cell_type": "code",
   "execution_count": 10,
   "id": "51903aca",
   "metadata": {
    "scrolled": true
   },
   "outputs": [
    {
     "data": {
      "text/input": [
       "QuantumOps.FermiTerm(\"IIII\", 0.7199689944489797)"
      ],
      "text/plain": [
       "4-factor QuantumOps.FermiTerm{Vector{QuantumOps.FermiOps.FermiOp}, Float64}:\n",
       "IIII * 0.7199689944489797"
      ]
     },
     "execution_count": 10,
     "metadata": {},
     "output_type": "execute_result"
    }
   ],
   "source": [
    "fermi_op[1]  # In qiskit_alt, the Fermi operator carries the identity term"
   ]
  },
  {
   "cell_type": "code",
   "execution_count": 11,
   "id": "a81c20f6",
   "metadata": {},
   "outputs": [
    {
     "data": {
      "text/plain": [
       "0.7199689944489797"
      ]
     },
     "execution_count": 11,
     "metadata": {},
     "output_type": "execute_result"
    }
   ],
   "source": [
    "nuclear_energy_term = fermi_op[1].coeff\n",
    "nuclear_energy_term"
   ]
  },
  {
   "cell_type": "markdown",
   "id": "7fca0494",
   "metadata": {},
   "source": [
    "<h1> Computing the ground state energy </h1>"
   ]
  },
  {
   "cell_type": "code",
   "execution_count": 12,
   "id": "6fcb30bf",
   "metadata": {},
   "outputs": [],
   "source": [
    "# Define the ansatz\n",
    "ansatz = TwoLocal(\n",
    "    rotation_blocks=[\"h\", \"rx\"],\n",
    "    entanglement_blocks=\"cz\",\n",
    "    entanglement=\"full\",\n",
    "    reps=2,\n",
    "    parameter_prefix=\"y\",\n",
    ")\n",
    "\n",
    "# Initialize the COBYLA optimizer\n",
    "optimizer = COBYLA(maxiter=500)\n",
    "\n",
    "# Select the backend for the quantum_instance\n",
    "backend = QuantumInstance(Aer.get_backend('statevector_simulator'), \n",
    "                                        seed_simulator=100, \n",
    "                                        seed_transpiler=100)\n",
    "# Run VQE algorithm\n",
    "vqe = VQE(ansatz = ansatz, \n",
    "          optimizer = optimizer,\n",
    "          quantum_instance = backend)"
   ]
  },
  {
   "cell_type": "markdown",
   "id": "891e8735",
   "metadata": {},
   "source": [
    "<h3> Qiskit Nature </h3>"
   ]
  },
  {
   "cell_type": "code",
   "execution_count": 13,
   "id": "809bfe8d",
   "metadata": {},
   "outputs": [
    {
     "name": "stdout",
     "output_type": "stream",
     "text": [
      "The ground-state energy of the Hydrogen molecule is -1.117 Hatree\n"
     ]
    }
   ],
   "source": [
    "# Compute the ground-state energy of the molecule \n",
    "nature_result = vqe.compute_minimum_eigenvalue(operator=qubit_op)\n",
    "nature_energy = nature_result.eigenvalue.real + nuclear_energy_term # Include constant term that is normally thrown away\n",
    "print(\"The ground-state energy of the Hydrogen molecule is {} Hatree\".format(round(nature_energy,3)))"
   ]
  },
  {
   "cell_type": "markdown",
   "id": "67d6415e",
   "metadata": {},
   "source": [
    "<h3> Qiskit Alt </h3>"
   ]
  },
  {
   "cell_type": "code",
   "execution_count": 14,
   "id": "485b4bce",
   "metadata": {},
   "outputs": [],
   "source": [
    "# Convert the Pauli operator into a sum of Pauli operators, the required input format\n",
    "pauli_sum_op = PauliSumOp(pauli_op)"
   ]
  },
  {
   "cell_type": "code",
   "execution_count": 15,
   "id": "c3775805",
   "metadata": {},
   "outputs": [
    {
     "name": "stdout",
     "output_type": "stream",
     "text": [
      "The ground-state energy of the Hydrogen molecule is -1.117 Hatree\n"
     ]
    }
   ],
   "source": [
    "# Compute the ground-state energy of the molecule\n",
    "alt_result = vqe.compute_minimum_eigenvalue(operator=pauli_sum_op)\n",
    "print(\"The ground-state energy of the Hydrogen molecule is {} Hatree\".format(round(alt_result.eigenvalue.real,3)))"
   ]
  },
  {
   "cell_type": "code",
   "execution_count": null,
   "id": "3a4f08a3",
   "metadata": {},
   "outputs": [],
   "source": []
  }
 ],
 "metadata": {
  "kernelspec": {
   "display_name": "Python 3",
   "language": "python",
   "name": "python3"
  },
  "language_info": {
   "codemirror_mode": {
    "name": "ipython",
    "version": 3
   },
   "file_extension": ".py",
   "mimetype": "text/x-python",
   "name": "python",
   "nbconvert_exporter": "python",
   "pygments_lexer": "ipython3",
   "version": "3.9.10"
  }
 },
 "nbformat": 4,
 "nbformat_minor": 5
}
