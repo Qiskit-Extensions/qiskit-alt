{
 "cells": [
  {
   "cell_type": "code",
   "execution_count": 1,
   "id": "635e46c9",
   "metadata": {},
   "outputs": [],
   "source": [
    "from qiskit_nature.drivers import UnitsType, Molecule\n",
    "from qiskit_nature.drivers.second_quantization import (\n",
    "    ElectronicStructureDriverType,\n",
    "    ElectronicStructureMoleculeDriver,\n",
    ")\n",
    "from qiskit_nature.problems.second_quantization import ElectronicStructureProblem\n",
    "from qiskit_nature.converters.second_quantization import QubitConverter\n",
    "from qiskit_nature.mappers.second_quantization import JordanWignerMapper\n",
    "\n",
    "from qiskit.algorithms import VQE\n",
    "from qiskit.circuit.library import TwoLocal\n",
    "from qiskit.utils import QuantumInstance\n",
    "from qiskit import Aer\n",
    "from qiskit.algorithms.optimizers import COBYLA\n",
    "\n",
    "import qiskit_alt, qiskit_alt.electronic_structure\n",
    "from qiskit_alt.pauli_operators import PauliSum_to_SparsePauliOp\n",
    "from qiskit.opflow import PauliSumOp"
   ]
  },
  {
   "cell_type": "markdown",
   "id": "a43d4152",
   "metadata": {},
   "source": [
    "<h1> Describing the $H_2$ molecule structure </h1>"
   ]
  },
  {
   "cell_type": "code",
   "execution_count": 2,
   "id": "4891a609",
   "metadata": {},
   "outputs": [],
   "source": [
    "geometry = [[\"H\", [0.0, 0.0, 0.0]], [\"H\", [0.0, 0.0, 0.735]]]\n",
    "basis=\"sto3g\"\n",
    "\n",
    "molecule = Molecule(\n",
    "    geometry=geometry, charge=0, multiplicity=1\n",
    ")\n",
    "driver = ElectronicStructureMoleculeDriver(\n",
    "    molecule, basis=basis, driver_type=ElectronicStructureDriverType.PYSCF\n",
    ")"
   ]
  },
  {
   "cell_type": "markdown",
   "id": "15dd86ae",
   "metadata": {},
   "source": [
    "<h1> Computing the fermionic operator </h1>"
   ]
  },
  {
   "cell_type": "markdown",
   "id": "49bc104c",
   "metadata": {},
   "source": [
    "<h3> Qiskit Nature </h3>"
   ]
  },
  {
   "cell_type": "code",
   "execution_count": 3,
   "id": "405a85be",
   "metadata": {
    "scrolled": true
   },
   "outputs": [
    {
     "data": {
      "text/plain": [
       "SparsePauliOp(['IIII', 'ZIII', 'IZII', 'ZZII', 'IIZI', 'ZIZI', 'IZZI', 'IIIZ', 'ZIIZ', 'IZIZ', 'IIZZ', 'XXXX', 'YYXX', 'XXYY', 'YYYY'],\n",
       "              coeffs=[-0.81054798+0.j, -0.22575349+0.j,  0.17218393+0.j,  0.12091263+0.j,\n",
       " -0.22575349+0.j,  0.17464343+0.j,  0.16614543+0.j,  0.17218393+0.j,\n",
       "  0.16614543+0.j,  0.16892754+0.j,  0.12091263+0.j,  0.0452328 +0.j,\n",
       "  0.0452328 +0.j,  0.0452328 +0.j,  0.0452328 +0.j])"
      ]
     },
     "execution_count": 3,
     "metadata": {},
     "output_type": "execute_result"
    }
   ],
   "source": [
    "es_problem = ElectronicStructureProblem(driver)\n",
    "second_q_op = es_problem.second_q_ops()\n",
    "qubit_converter = QubitConverter(mapper=JordanWignerMapper())\n",
    "qubit_op = qubit_converter.convert(second_q_op[0])\n",
    "qubit_op.primitive"
   ]
  },
  {
   "cell_type": "markdown",
   "id": "01277c4a",
   "metadata": {},
   "source": [
    "<h3> Qiskit Alt </h3>"
   ]
  },
  {
   "cell_type": "code",
   "execution_count": 8,
   "id": "dc967a93",
   "metadata": {},
   "outputs": [
    {
     "name": "stdout",
     "output_type": "stream",
     "text": [
      "-0.090578986088348 * IIII\n",
      "- 0.22575349222402383 * ZIII\n",
      "+ 0.17218393261915532 * IZII\n",
      "+ 0.12091263261776633 * ZZII\n",
      "- 0.22575349222402383 * IIZI\n",
      "+ 0.17464343068300456 * ZIZI\n",
      "+ 0.16614543256382416 * IZZI\n",
      "+ 0.04523279994605783 * XXXX\n",
      "+ 0.04523279994605783 * YYXX\n",
      "+ 0.04523279994605783 * XXYY\n",
      "+ 0.04523279994605783 * YYYY\n",
      "+ 0.1721839326191553 * IIIZ\n",
      "+ 0.16614543256382416 * ZIIZ\n",
      "+ 0.16892753870087907 * IZIZ\n",
      "+ 0.12091263261776633 * IIZZ\n"
     ]
    },
    {
     "data": {
      "text/plain": [
       "SparsePauliOp(['IIII', 'ZIII', 'IZII', 'ZZII', 'IIZI', 'ZIZI', 'IZZI', 'IIIZ', 'ZIIZ', 'IZIZ', 'IIZZ', 'XXXX', 'YYXX', 'XXYY', 'YYYY'],\n",
       "              coeffs=[-0.09057899+0.j, -0.22575349+0.j,  0.17218393+0.j,  0.12091263+0.j,\n",
       " -0.22575349+0.j,  0.17464343+0.j,  0.16614543+0.j,  0.17218393+0.j,\n",
       "  0.16614543+0.j,  0.16892754+0.j,  0.12091263+0.j,  0.0452328 +0.j,\n",
       "  0.0452328 +0.j,  0.0452328 +0.j,  0.0452328 +0.j])"
      ]
     },
     "execution_count": 8,
     "metadata": {},
     "output_type": "execute_result"
    }
   ],
   "source": [
    "# Compute the Fermionic operator of the molecule \n",
    "fermi_op = qiskit_alt.electronic_structure.fermionic_hamiltonian(geometry, basis)\n",
    "\n",
    "# Convert the Fermionic operator to a Pauli operator using the Jordan-Wigner transform\n",
    "pauli_op = qiskit_alt.electronic_structure.jordan_wigner(fermi_op);\n",
    "\n",
    "# Convert the Pauli operator into a sum of Pauli operators\n",
    "pauli_sum_op = PauliSumOp(pauli_op)\n",
    "\n",
    "# Print the PauliSumOp operator, which will be the input to the VQE algorithm to compute the minimum eigenvalue\n",
    "print(pauli_sum_op)\n",
    "\n",
    "# Print the SparsePauliOp operator ~ Fermionic operator computed with qiskit-alt\n",
    "pauli_op.simplify()"
   ]
  },
  {
   "cell_type": "markdown",
   "id": "7fca0494",
   "metadata": {},
   "source": [
    "<h1> Computing the ground state energy </h1>"
   ]
  },
  {
   "cell_type": "code",
   "execution_count": 5,
   "id": "6fcb30bf",
   "metadata": {},
   "outputs": [],
   "source": [
    "# Define the ansatz\n",
    "ansatz = TwoLocal(\n",
    "    rotation_blocks=[\"h\", \"rx\"],\n",
    "    entanglement_blocks=\"cz\",\n",
    "    entanglement=\"full\",\n",
    "    reps=2,\n",
    "    parameter_prefix=\"y\",\n",
    ")\n",
    "\n",
    "# Initialize the COBYLA optimizer\n",
    "optimizer = COBYLA(maxiter=500)\n",
    "\n",
    "# Select the backend for the quantum_instance\n",
    "backend = QuantumInstance(Aer.get_backend('statevector_simulator'), \n",
    "                                        seed_simulator=100, \n",
    "                                        seed_transpiler=100)\n",
    "# Run VQE algorithm\n",
    "vqe = VQE(ansatz = ansatz, \n",
    "          optimizer = optimizer,\n",
    "          quantum_instance = backend)"
   ]
  },
  {
   "cell_type": "markdown",
   "id": "891e8735",
   "metadata": {},
   "source": [
    "<h3> Qiskit Nature </h3>"
   ]
  },
  {
   "cell_type": "code",
   "execution_count": 6,
   "id": "809bfe8d",
   "metadata": {},
   "outputs": [
    {
     "name": "stdout",
     "output_type": "stream",
     "text": [
      "The ground-state energy of the Hydrogen molecule is -1.837 Hatree\n"
     ]
    }
   ],
   "source": [
    "# Compute the ground-state energy of the molecule \n",
    "result = vqe.compute_minimum_eigenvalue(operator=qubit_op)\n",
    "print(\"The ground-state energy of the Hydrogen molecule is {} Hatree\".format(round(result.eigenvalue.real,3)))"
   ]
  },
  {
   "cell_type": "markdown",
   "id": "67d6415e",
   "metadata": {},
   "source": [
    "<h3> Qiskit Alt </h3>"
   ]
  },
  {
   "cell_type": "code",
   "execution_count": 7,
   "id": "c3775805",
   "metadata": {},
   "outputs": [
    {
     "name": "stdout",
     "output_type": "stream",
     "text": [
      "The ground-state energy of the Hydrogen molecule is -1.117 Hatree\n"
     ]
    }
   ],
   "source": [
    "# Compute the ground-state energy of the molecule\n",
    "result = vqe.compute_minimum_eigenvalue(operator=pauli_sum_op)\n",
    "print(\"The ground-state energy of the Hydrogen molecule is {} Hatree\".format(round(result.eigenvalue.real,3)))"
   ]
  },
  {
   "cell_type": "code",
   "execution_count": null,
   "id": "435f1291",
   "metadata": {},
   "outputs": [],
   "source": []
  }
 ],
 "metadata": {
  "kernelspec": {
   "display_name": "Python 3",
   "language": "python",
   "name": "python3"
  },
  "language_info": {
   "codemirror_mode": {
    "name": "ipython",
    "version": 3
   },
   "file_extension": ".py",
   "mimetype": "text/x-python",
   "name": "python",
   "nbconvert_exporter": "python",
   "pygments_lexer": "ipython3",
   "version": "3.8.10"
  }
 },
 "nbformat": 4,
 "nbformat_minor": 5
}
